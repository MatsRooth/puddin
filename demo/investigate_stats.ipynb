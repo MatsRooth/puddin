{
 "cells": [
  {
   "cell_type": "markdown",
   "metadata": {},
   "source": [
    "# Notebook to investigate getting stats for puddin files"
   ]
  },
  {
   "cell_type": "code",
   "execution_count": null,
   "metadata": {},
   "outputs": [],
   "source": [
    "import pandas as pd\n",
    "from pathlib import Path\n",
    "DATA_GRP = 'val'\n",
    "DATA_DIR = Path('data/puddin')"
   ]
  },
  {
   "cell_type": "code",
   "execution_count": null,
   "metadata": {},
   "outputs": [],
   "source": [
    "data_code = f'Pcc{DATA_GRP[:2].capitalize()}'\n",
    "for group_info_file in DATA_DIR.joinpath('info/validation_by_group/status-overview/'\n",
    "                                         ).glob('*status-info*pkl*'): \n",
    "    # for testing\n",
    "    if not group_info_file.stem.startswith(data_code): \n",
    "        continue\n",
    "    else: \n",
    "        group_info = pd.read_pickle(group_info_file)\n",
    "        break\n",
    "group_info"
   ]
  },
  {
   "cell_type": "markdown",
   "metadata": {},
   "source": [
    "I had been using `egrep` to more quickly generate counts for different units. However, I don't think that is the most effective way to go about getting counts for anything below the conllu file level; i.e. per document or per sentence stats. Those will need to employ `pyconll` and actually parse the conllu formatting. "
   ]
  },
  {
   "cell_type": "code",
   "execution_count": null,
   "metadata": {},
   "outputs": [],
   "source": [
    "import pyconll\n",
    "from collections import namedtuple\n",
    "\n",
    "group_dir = DATA_DIR.joinpath(f'{data_code}.conll')"
   ]
  },
  {
   "cell_type": "code",
   "execution_count": null,
   "metadata": {},
   "outputs": [],
   "source": [
    "def count_contents(conllu_path):\n",
    "    reader = pyconll.iter_from_file(conllu_path)\n",
    "    conllu_df = pd.DataFrame(reader)\n",
    "    return conllu_df\n"
   ]
  },
  {
   "cell_type": "code",
   "execution_count": null,
   "metadata": {},
   "outputs": [],
   "source": [
    "if not group_dir.is_dir(): \n",
    "    print('CANNOT FIND CONLLU DIR FOR', data_code)\n",
    "else: \n",
    "    stem_col = group_info.conllu_stem\n",
    "    for stem in stem_col.unique(): \n",
    "        conllu_path = group_dir.joinpath(f'{stem}.conllu')\n",
    "        if conllu_path.is_file():# and conllu_path.stat().st_size > 0:\n",
    "            \n",
    "            print(f'conllu: {conllu_path}')\n",
    "        # else: \n",
    "        #     print(f'{conllu_path} does not exist, or is not a file.')\n",
    "        #> this should go within loop, but only doing one for devel so pulling it out\n",
    "        # doc_counts = count_contents(conllu_path)\n",
    "    print(f'Counting data in {conllu_path}...')\n",
    "    # doc_counts = count_contents(conllu_path)"
   ]
  },
  {
   "cell_type": "code",
   "execution_count": null,
   "metadata": {},
   "outputs": [],
   "source": [
    "#> developing method for counting with pyconll object with only last path of loop\n",
    "# conllu_reader = pyconll.iter_from_file(conllu_path)"
   ]
  },
  {
   "cell_type": "markdown",
   "metadata": {},
   "source": [
    "seeing if pandas can do anything with the pyconll object..."
   ]
  },
  {
   "cell_type": "code",
   "execution_count": null,
   "metadata": {},
   "outputs": [],
   "source": [
    "# def gen_sentences(conll_df): \n",
    "\n",
    "#     for i in range(len(conll_df)): \n",
    "#         sentence = []\n",
    "#         for x in range(len(conll_df.columns)): \n",
    "#             word = conll_df.iat[i,x]\n",
    "#             if word:\n",
    "#                 sentence.append(word)\n",
    "#         # print(*[w.form for w in sentence])\n",
    "#         yield sentence\n",
    "\n",
    "    \n",
    "# sentences_gen = gen_sentences(sample_df)\n",
    "# for s in sentences_gen: \n",
    "#     print(*[w.form for w in s])\n",
    "# # df = pd.DataFrame(pyconll.iter_from_file(conllu_path))\n",
    "# # sentence_gen = gen_sentences(df)"
   ]
  },
  {
   "cell_type": "markdown",
   "metadata": {},
   "source": [
    "This is no better--worse even probably--than just iterating through the pyconll object."
   ]
  },
  {
   "cell_type": "code",
   "execution_count": 26,
   "metadata": {},
   "outputs": [],
   "source": [
    "sent_tuple = namedtuple('sent_counts', ['sent_id', 'text', 'word_count', 'char_count'])"
   ]
  },
  {
   "cell_type": "code",
   "execution_count": 27,
   "metadata": {},
   "outputs": [],
   "source": [
    "def gen_sentence_info(conllu_path):\n",
    "    \n",
    "    for sentence in pyconll.iter_from_file(conllu_path):\n",
    "        # print(sentence.text)\n",
    "        # if sentence.meta_present('newdoc_id'): \n",
    "        #     doc_id = sentence.newdoc_id\n",
    "        # sentence.set_meta(key='doc_id', value=doc_id)\n",
    "        word_lengths = [len(w.form) for w in sentence._tokens if w.deprel != 'punct']\n",
    "        # print(word_lengths)\n",
    "        word_count = len(word_lengths)\n",
    "        char_count = sum(word_lengths)\n",
    "        yield sent_tuple(sentence.id, sentence.text, word_count, char_count)"
   ]
  },
  {
   "cell_type": "code",
   "execution_count": null,
   "metadata": {},
   "outputs": [],
   "source": [
    "# conllu_counts_df = pd.DataFrame(gen_sentence_info(conllu_path))\n",
    "# conllu_counts_df.head()"
   ]
  },
  {
   "cell_type": "code",
   "execution_count": 30,
   "metadata": {},
   "outputs": [
    {
     "data": {
      "text/html": [
       "<div>\n",
       "<style scoped>\n",
       "    .dataframe tbody tr th:only-of-type {\n",
       "        vertical-align: middle;\n",
       "    }\n",
       "\n",
       "    .dataframe tbody tr th {\n",
       "        vertical-align: top;\n",
       "    }\n",
       "\n",
       "    .dataframe thead th {\n",
       "        text-align: right;\n",
       "    }\n",
       "</style>\n",
       "<table border=\"1\" class=\"dataframe\">\n",
       "  <thead>\n",
       "    <tr style=\"text-align: right;\">\n",
       "      <th></th>\n",
       "      <th>sent_id</th>\n",
       "      <th>text</th>\n",
       "      <th>word_count</th>\n",
       "      <th>char_count</th>\n",
       "    </tr>\n",
       "  </thead>\n",
       "  <tbody>\n",
       "    <tr>\n",
       "      <th>0</th>\n",
       "      <td>pcc_eng_sample-1_1.01_x01_1</td>\n",
       "      <td>What If We Weren't so Focused on Price?</td>\n",
       "      <td>9</td>\n",
       "      <td>31</td>\n",
       "    </tr>\n",
       "    <tr>\n",
       "      <th>1</th>\n",
       "      <td>pcc_eng_sample-1_1.01_x01_2</td>\n",
       "      <td>January 1, 2011</td>\n",
       "      <td>3</td>\n",
       "      <td>12</td>\n",
       "    </tr>\n",
       "    <tr>\n",
       "      <th>2</th>\n",
       "      <td>pcc_eng_sample-1_1.01_x01_3</td>\n",
       "      <td>Would quality get better?</td>\n",
       "      <td>4</td>\n",
       "      <td>21</td>\n",
       "    </tr>\n",
       "    <tr>\n",
       "      <th>3</th>\n",
       "      <td>pcc_eng_sample-1_1.01_x01_4</td>\n",
       "      <td>Would service get better?</td>\n",
       "      <td>4</td>\n",
       "      <td>21</td>\n",
       "    </tr>\n",
       "    <tr>\n",
       "      <th>4</th>\n",
       "      <td>pcc_eng_sample-1_1.01_x01_5</td>\n",
       "      <td>Would there be jobs in the manufacturing secto...</td>\n",
       "      <td>13</td>\n",
       "      <td>57</td>\n",
       "    </tr>\n",
       "    <tr>\n",
       "      <th>...</th>\n",
       "      <td>...</td>\n",
       "      <td>...</td>\n",
       "      <td>...</td>\n",
       "      <td>...</td>\n",
       "    </tr>\n",
       "    <tr>\n",
       "      <th>164</th>\n",
       "      <td>pcc_eng_sample-1_1.12_x19_5</td>\n",
       "      <td>In 2003, Sars killed hundreds of people, mostl...</td>\n",
       "      <td>14</td>\n",
       "      <td>66</td>\n",
       "    </tr>\n",
       "    <tr>\n",
       "      <th>165</th>\n",
       "      <td>pcc_eng_sample-1_1.12_x19_6</td>\n",
       "      <td>Britain's Health Protection</td>\n",
       "      <td>3</td>\n",
       "      <td>25</td>\n",
       "    </tr>\n",
       "    <tr>\n",
       "      <th>166</th>\n",
       "      <td>pcc_eng_sample-1_1.12_x19_7</td>\n",
       "      <td>Agency said in a statement late on Sunday that...</td>\n",
       "      <td>20</td>\n",
       "      <td>90</td>\n",
       "    </tr>\n",
       "    <tr>\n",
       "      <th>167</th>\n",
       "      <td>pcc_eng_sample-1_1.12_x19_8</td>\n",
       "      <td>The UN health agency says virus samples from t...</td>\n",
       "      <td>27</td>\n",
       "      <td>120</td>\n",
       "    </tr>\n",
       "    <tr>\n",
       "      <th>168</th>\n",
       "      <td>pcc_eng_sample-1_1.12_x19_9</td>\n",
       "      <td>The World Health Organisation says it is tryin...</td>\n",
       "      <td>25</td>\n",
       "      <td>138</td>\n",
       "    </tr>\n",
       "  </tbody>\n",
       "</table>\n",
       "<p>169 rows × 4 columns</p>\n",
       "</div>"
      ],
      "text/plain": [
       "                         sent_id  \\\n",
       "0    pcc_eng_sample-1_1.01_x01_1   \n",
       "1    pcc_eng_sample-1_1.01_x01_2   \n",
       "2    pcc_eng_sample-1_1.01_x01_3   \n",
       "3    pcc_eng_sample-1_1.01_x01_4   \n",
       "4    pcc_eng_sample-1_1.01_x01_5   \n",
       "..                           ...   \n",
       "164  pcc_eng_sample-1_1.12_x19_5   \n",
       "165  pcc_eng_sample-1_1.12_x19_6   \n",
       "166  pcc_eng_sample-1_1.12_x19_7   \n",
       "167  pcc_eng_sample-1_1.12_x19_8   \n",
       "168  pcc_eng_sample-1_1.12_x19_9   \n",
       "\n",
       "                                                  text  word_count  char_count  \n",
       "0              What If We Weren't so Focused on Price?           9          31  \n",
       "1                                      January 1, 2011           3          12  \n",
       "2                            Would quality get better?           4          21  \n",
       "3                            Would service get better?           4          21  \n",
       "4    Would there be jobs in the manufacturing secto...          13          57  \n",
       "..                                                 ...         ...         ...  \n",
       "164  In 2003, Sars killed hundreds of people, mostl...          14          66  \n",
       "165                        Britain's Health Protection           3          25  \n",
       "166  Agency said in a statement late on Sunday that...          20          90  \n",
       "167  The UN health agency says virus samples from t...          27         120  \n",
       "168  The World Health Organisation says it is tryin...          25         138  \n",
       "\n",
       "[169 rows x 4 columns]"
      ]
     },
     "execution_count": 30,
     "metadata": {},
     "output_type": "execute_result"
    }
   ],
   "source": [
    "sample_df = pd.DataFrame(gen_sentence_info('data/puddin/PccSa1.conll/pcc_eng_sample-1-01.conllu'))\n",
    "sample_df"
   ]
  },
  {
   "cell_type": "code",
   "execution_count": 32,
   "metadata": {},
   "outputs": [
    {
     "data": {
      "text/html": [
       "<div>\n",
       "<style scoped>\n",
       "    .dataframe tbody tr th:only-of-type {\n",
       "        vertical-align: middle;\n",
       "    }\n",
       "\n",
       "    .dataframe tbody tr th {\n",
       "        vertical-align: top;\n",
       "    }\n",
       "\n",
       "    .dataframe thead th {\n",
       "        text-align: right;\n",
       "    }\n",
       "</style>\n",
       "<table border=\"1\" class=\"dataframe\">\n",
       "  <thead>\n",
       "    <tr style=\"text-align: right;\">\n",
       "      <th></th>\n",
       "      <th>word_count</th>\n",
       "      <th>char_count</th>\n",
       "      <th>char_per_word</th>\n",
       "    </tr>\n",
       "  </thead>\n",
       "  <tbody>\n",
       "    <tr>\n",
       "      <th>count</th>\n",
       "      <td>169.000000</td>\n",
       "      <td>169.000000</td>\n",
       "      <td>169.000000</td>\n",
       "    </tr>\n",
       "    <tr>\n",
       "      <th>mean</th>\n",
       "      <td>14.041420</td>\n",
       "      <td>65.230769</td>\n",
       "      <td>4.845452</td>\n",
       "    </tr>\n",
       "    <tr>\n",
       "      <th>std</th>\n",
       "      <td>9.417787</td>\n",
       "      <td>44.251715</td>\n",
       "      <td>1.107977</td>\n",
       "    </tr>\n",
       "    <tr>\n",
       "      <th>min</th>\n",
       "      <td>1.000000</td>\n",
       "      <td>5.000000</td>\n",
       "      <td>2.750000</td>\n",
       "    </tr>\n",
       "    <tr>\n",
       "      <th>25%</th>\n",
       "      <td>5.000000</td>\n",
       "      <td>26.000000</td>\n",
       "      <td>4.100000</td>\n",
       "    </tr>\n",
       "    <tr>\n",
       "      <th>50%</th>\n",
       "      <td>14.000000</td>\n",
       "      <td>67.000000</td>\n",
       "      <td>4.714286</td>\n",
       "    </tr>\n",
       "    <tr>\n",
       "      <th>75%</th>\n",
       "      <td>20.000000</td>\n",
       "      <td>90.000000</td>\n",
       "      <td>5.500000</td>\n",
       "    </tr>\n",
       "    <tr>\n",
       "      <th>max</th>\n",
       "      <td>45.000000</td>\n",
       "      <td>249.000000</td>\n",
       "      <td>8.500000</td>\n",
       "    </tr>\n",
       "  </tbody>\n",
       "</table>\n",
       "</div>"
      ],
      "text/plain": [
       "       word_count  char_count  char_per_word\n",
       "count  169.000000  169.000000     169.000000\n",
       "mean    14.041420   65.230769       4.845452\n",
       "std      9.417787   44.251715       1.107977\n",
       "min      1.000000    5.000000       2.750000\n",
       "25%      5.000000   26.000000       4.100000\n",
       "50%     14.000000   67.000000       4.714286\n",
       "75%     20.000000   90.000000       5.500000\n",
       "max     45.000000  249.000000       8.500000"
      ]
     },
     "execution_count": 32,
     "metadata": {},
     "output_type": "execute_result"
    }
   ],
   "source": [
    "sample_df = sample_df.assign(doc_id = sample_df.,\n",
    "                             char_per_word=sample_df.char_count/sample_df.word_count)\n",
    "sample_df.describe()"
   ]
  }
 ],
 "metadata": {
  "kernelspec": {
   "display_name": "Python 3.8.13 ('puddin')",
   "language": "python",
   "name": "python3"
  },
  "language_info": {
   "codemirror_mode": {
    "name": "ipython",
    "version": 3
   },
   "file_extension": ".py",
   "mimetype": "text/x-python",
   "name": "python",
   "nbconvert_exporter": "python",
   "pygments_lexer": "ipython3",
   "version": "3.8.13"
  },
  "orig_nbformat": 4,
  "vscode": {
   "interpreter": {
    "hash": "6a9302f9f61557174076a4e7529204e452625455977066cebcfad89eb9047b5c"
   }
  }
 },
 "nbformat": 4,
 "nbformat_minor": 2
}
