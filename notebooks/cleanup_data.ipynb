{
 "cells": [
  {
   "cell_type": "code",
   "execution_count": 10,
   "metadata": {},
   "outputs": [],
   "source": [
    "import pandas as pd\n",
    "import re\n",
    "from pathlib import Path\n",
    "DATA_DIR = Path('/home/arh234/data/puddin/')\n",
    "SLICES_DIR = DATA_DIR.joinpath('pile_tables/slices')\n",
    "EXCL_DIR = DATA_DIR.joinpath('pile_exclusions')"
   ]
  },
  {
   "cell_type": "code",
   "execution_count": 14,
   "metadata": {},
   "outputs": [
    {
     "name": "stdout",
     "output_type": "stream",
     "text": [
      "empty file found: PccVa.conll/pcc_eng_val-03.conllu\n",
      "corresponding slice dataframe: pile_tables/slices/PccVa/pile_val-3_Pile-CC_df.pkl.gz\n",
      "\n"
     ]
    }
   ],
   "source": [
    "for conll_dir in DATA_DIR.glob('*.conll'):\n",
    "\n",
    "    empties = tuple(c for c in conll_dir.glob('*.conllu') if c.stat().st_size == 0)\n",
    "\n",
    "    data_grp_name = conll_dir.stem\n",
    "    final_sldf_dir = SLICES_DIR.joinpath(data_grp_name)\n",
    "\n",
    "    if not empties:\n",
    "        print(f'No empty conllu files in {conll_dir}')\n",
    "\n",
    "    else:\n",
    "        for empty_conllu in empties:\n",
    "\n",
    "            #find \"final\" slice dfs and remove them as well\n",
    "            empty_id = re.sub(r'(?<=-)0*(\\d)',r'*\\1',empty_conllu.stem.split('_')[-1])\n",
    "            print(f'empty file found: {empty_conllu.relative_to(DATA_DIR)}')\n",
    "            # empty_conllu_slice = re.sub(r'(?<=-)0*(\\d)',r'*\\1',empty_conllu.stem\n",
    "            error_df_paths = tuple(\n",
    "                final_sldf_dir.glob(f'*{empty_id}*'))\n",
    "            if error_df_paths:\n",
    "                error_df_path = error_df_paths[0]\n",
    "                print(\n",
    "                    f'corresponding slice dataframe: {error_df_path.relative_to(DATA_DIR)}\\n')\n",
    "                error_df_path.unlink()\n",
    "                \n",
    "            empty_conllu.unlink()\n"
   ]
  },
  {
   "cell_type": "markdown",
   "metadata": {},
   "source": [
    "## Confirm Exclusions in dataframes"
   ]
  },
  {
   "cell_type": "code",
   "execution_count": 20,
   "metadata": {},
   "outputs": [
    {
     "name": "stdout",
     "output_type": "stream",
     "text": [
      "/home/arh234/data/puddin/pile_exclusions/pile_29_Pile-CC_excl.pkl.gz\n"
     ]
    },
    {
     "ename": "EOFError",
     "evalue": "Compressed file ended before the end-of-stream marker was reached",
     "output_type": "error",
     "traceback": [
      "\u001b[0;31m---------------------------------------------------------------------------\u001b[0m",
      "\u001b[0;31mEOFError\u001b[0m                                  Traceback (most recent call last)",
      "\u001b[1;32m/home/arh234/projects/puddin/notebooks/cleanup_data.ipynb Cell 4'\u001b[0m in \u001b[0;36m<cell line: 1>\u001b[0;34m()\u001b[0m\n\u001b[1;32m      <a href='vscode-notebook-cell://wsl%2Bubuntu-20.04/home/arh234/projects/puddin/notebooks/cleanup_data.ipynb#ch0000002vscode-remote?line=0'>1</a>\u001b[0m \u001b[39mfor\u001b[39;00m excl_path \u001b[39min\u001b[39;00m EXCL_DIR\u001b[39m.\u001b[39mglob(\u001b[39m'\u001b[39m\u001b[39m*29*excl.pkl*\u001b[39m\u001b[39m'\u001b[39m):\n\u001b[1;32m      <a href='vscode-notebook-cell://wsl%2Bubuntu-20.04/home/arh234/projects/puddin/notebooks/cleanup_data.ipynb#ch0000002vscode-remote?line=2'>3</a>\u001b[0m     \u001b[39mprint\u001b[39m(excl_path)\n\u001b[0;32m----> <a href='vscode-notebook-cell://wsl%2Bubuntu-20.04/home/arh234/projects/puddin/notebooks/cleanup_data.ipynb#ch0000002vscode-remote?line=3'>4</a>\u001b[0m     df \u001b[39m=\u001b[39m pd\u001b[39m.\u001b[39;49mread_pickle(excl_path)\n\u001b[1;32m      <a href='vscode-notebook-cell://wsl%2Bubuntu-20.04/home/arh234/projects/puddin/notebooks/cleanup_data.ipynb#ch0000002vscode-remote?line=4'>5</a>\u001b[0m     fails \u001b[39m=\u001b[39m df\u001b[39m.\u001b[39mloc[df\u001b[39m.\u001b[39mexcl_type \u001b[39m==\u001b[39m \u001b[39m'\u001b[39m\u001b[39mfail\u001b[39m\u001b[39m'\u001b[39m]\n\u001b[1;32m      <a href='vscode-notebook-cell://wsl%2Bubuntu-20.04/home/arh234/projects/puddin/notebooks/cleanup_data.ipynb#ch0000002vscode-remote?line=5'>6</a>\u001b[0m     \u001b[39mif\u001b[39;00m fails\u001b[39m.\u001b[39mempty(): \n",
      "File \u001b[0;32m~/anaconda3/envs/puddin/lib/python3.8/site-packages/pandas/io/pickle.py:205\u001b[0m, in \u001b[0;36mread_pickle\u001b[0;34m(filepath_or_buffer, compression, storage_options)\u001b[0m\n\u001b[1;32m    <a href='file:///home/arh234/anaconda3/envs/puddin/lib/python3.8/site-packages/pandas/io/pickle.py?line=201'>202</a>\u001b[0m     \u001b[39mwith\u001b[39;00m warnings\u001b[39m.\u001b[39mcatch_warnings(record\u001b[39m=\u001b[39m\u001b[39mTrue\u001b[39;00m):\n\u001b[1;32m    <a href='file:///home/arh234/anaconda3/envs/puddin/lib/python3.8/site-packages/pandas/io/pickle.py?line=202'>203</a>\u001b[0m         \u001b[39m# We want to silence any warnings about, e.g. moved modules.\u001b[39;00m\n\u001b[1;32m    <a href='file:///home/arh234/anaconda3/envs/puddin/lib/python3.8/site-packages/pandas/io/pickle.py?line=203'>204</a>\u001b[0m         warnings\u001b[39m.\u001b[39msimplefilter(\u001b[39m\"\u001b[39m\u001b[39mignore\u001b[39m\u001b[39m\"\u001b[39m, \u001b[39mWarning\u001b[39;00m)\n\u001b[0;32m--> <a href='file:///home/arh234/anaconda3/envs/puddin/lib/python3.8/site-packages/pandas/io/pickle.py?line=204'>205</a>\u001b[0m         \u001b[39mreturn\u001b[39;00m pickle\u001b[39m.\u001b[39;49mload(handles\u001b[39m.\u001b[39;49mhandle)\n\u001b[1;32m    <a href='file:///home/arh234/anaconda3/envs/puddin/lib/python3.8/site-packages/pandas/io/pickle.py?line=205'>206</a>\u001b[0m \u001b[39mexcept\u001b[39;00m excs_to_catch:\n\u001b[1;32m    <a href='file:///home/arh234/anaconda3/envs/puddin/lib/python3.8/site-packages/pandas/io/pickle.py?line=206'>207</a>\u001b[0m     \u001b[39m# e.g.\u001b[39;00m\n\u001b[1;32m    <a href='file:///home/arh234/anaconda3/envs/puddin/lib/python3.8/site-packages/pandas/io/pickle.py?line=207'>208</a>\u001b[0m     \u001b[39m#  \"No module named 'pandas.core.sparse.series'\"\u001b[39;00m\n\u001b[1;32m    <a href='file:///home/arh234/anaconda3/envs/puddin/lib/python3.8/site-packages/pandas/io/pickle.py?line=208'>209</a>\u001b[0m     \u001b[39m#  \"Can't get attribute '__nat_unpickle' on <module 'pandas._libs.tslib\"\u001b[39;00m\n\u001b[1;32m    <a href='file:///home/arh234/anaconda3/envs/puddin/lib/python3.8/site-packages/pandas/io/pickle.py?line=209'>210</a>\u001b[0m     \u001b[39mreturn\u001b[39;00m pc\u001b[39m.\u001b[39mload(handles\u001b[39m.\u001b[39mhandle, encoding\u001b[39m=\u001b[39m\u001b[39mNone\u001b[39;00m)\n",
      "File \u001b[0;32m~/anaconda3/envs/puddin/lib/python3.8/gzip.py:292\u001b[0m, in \u001b[0;36mGzipFile.read\u001b[0;34m(self, size)\u001b[0m\n\u001b[1;32m    <a href='file:///home/arh234/anaconda3/envs/puddin/lib/python3.8/gzip.py?line=289'>290</a>\u001b[0m     \u001b[39mimport\u001b[39;00m \u001b[39merrno\u001b[39;00m\n\u001b[1;32m    <a href='file:///home/arh234/anaconda3/envs/puddin/lib/python3.8/gzip.py?line=290'>291</a>\u001b[0m     \u001b[39mraise\u001b[39;00m \u001b[39mOSError\u001b[39;00m(errno\u001b[39m.\u001b[39mEBADF, \u001b[39m\"\u001b[39m\u001b[39mread() on write-only GzipFile object\u001b[39m\u001b[39m\"\u001b[39m)\n\u001b[0;32m--> <a href='file:///home/arh234/anaconda3/envs/puddin/lib/python3.8/gzip.py?line=291'>292</a>\u001b[0m \u001b[39mreturn\u001b[39;00m \u001b[39mself\u001b[39;49m\u001b[39m.\u001b[39;49m_buffer\u001b[39m.\u001b[39;49mread(size)\n",
      "File \u001b[0;32m~/anaconda3/envs/puddin/lib/python3.8/_compression.py:68\u001b[0m, in \u001b[0;36mDecompressReader.readinto\u001b[0;34m(self, b)\u001b[0m\n\u001b[1;32m     <a href='file:///home/arh234/anaconda3/envs/puddin/lib/python3.8/_compression.py?line=65'>66</a>\u001b[0m \u001b[39mdef\u001b[39;00m \u001b[39mreadinto\u001b[39m(\u001b[39mself\u001b[39m, b):\n\u001b[1;32m     <a href='file:///home/arh234/anaconda3/envs/puddin/lib/python3.8/_compression.py?line=66'>67</a>\u001b[0m     \u001b[39mwith\u001b[39;00m \u001b[39mmemoryview\u001b[39m(b) \u001b[39mas\u001b[39;00m view, view\u001b[39m.\u001b[39mcast(\u001b[39m\"\u001b[39m\u001b[39mB\u001b[39m\u001b[39m\"\u001b[39m) \u001b[39mas\u001b[39;00m byte_view:\n\u001b[0;32m---> <a href='file:///home/arh234/anaconda3/envs/puddin/lib/python3.8/_compression.py?line=67'>68</a>\u001b[0m         data \u001b[39m=\u001b[39m \u001b[39mself\u001b[39;49m\u001b[39m.\u001b[39;49mread(\u001b[39mlen\u001b[39;49m(byte_view))\n\u001b[1;32m     <a href='file:///home/arh234/anaconda3/envs/puddin/lib/python3.8/_compression.py?line=68'>69</a>\u001b[0m         byte_view[:\u001b[39mlen\u001b[39m(data)] \u001b[39m=\u001b[39m data\n\u001b[1;32m     <a href='file:///home/arh234/anaconda3/envs/puddin/lib/python3.8/_compression.py?line=69'>70</a>\u001b[0m     \u001b[39mreturn\u001b[39;00m \u001b[39mlen\u001b[39m(data)\n",
      "File \u001b[0;32m~/anaconda3/envs/puddin/lib/python3.8/gzip.py:498\u001b[0m, in \u001b[0;36m_GzipReader.read\u001b[0;34m(self, size)\u001b[0m\n\u001b[1;32m    <a href='file:///home/arh234/anaconda3/envs/puddin/lib/python3.8/gzip.py?line=495'>496</a>\u001b[0m         \u001b[39mbreak\u001b[39;00m\n\u001b[1;32m    <a href='file:///home/arh234/anaconda3/envs/puddin/lib/python3.8/gzip.py?line=496'>497</a>\u001b[0m     \u001b[39mif\u001b[39;00m buf \u001b[39m==\u001b[39m \u001b[39mb\u001b[39m\u001b[39m\"\u001b[39m\u001b[39m\"\u001b[39m:\n\u001b[0;32m--> <a href='file:///home/arh234/anaconda3/envs/puddin/lib/python3.8/gzip.py?line=497'>498</a>\u001b[0m         \u001b[39mraise\u001b[39;00m \u001b[39mEOFError\u001b[39;00m(\u001b[39m\"\u001b[39m\u001b[39mCompressed file ended before the \u001b[39m\u001b[39m\"\u001b[39m\n\u001b[1;32m    <a href='file:///home/arh234/anaconda3/envs/puddin/lib/python3.8/gzip.py?line=498'>499</a>\u001b[0m                        \u001b[39m\"\u001b[39m\u001b[39mend-of-stream marker was reached\u001b[39m\u001b[39m\"\u001b[39m)\n\u001b[1;32m    <a href='file:///home/arh234/anaconda3/envs/puddin/lib/python3.8/gzip.py?line=500'>501</a>\u001b[0m \u001b[39mself\u001b[39m\u001b[39m.\u001b[39m_add_read_data( uncompress )\n\u001b[1;32m    <a href='file:///home/arh234/anaconda3/envs/puddin/lib/python3.8/gzip.py?line=501'>502</a>\u001b[0m \u001b[39mself\u001b[39m\u001b[39m.\u001b[39m_pos \u001b[39m+\u001b[39m\u001b[39m=\u001b[39m \u001b[39mlen\u001b[39m(uncompress)\n",
      "\u001b[0;31mEOFError\u001b[0m: Compressed file ended before the end-of-stream marker was reached"
     ]
    }
   ],
   "source": [
    "for excl_path in EXCL_DIR.glob('*29*excl.pkl*'):\n",
    "\n",
    "    print(excl_path)\n",
    "    df = pd.read_pickle(excl_path)\n",
    "    fails = df.loc[df.excl_type == 'fail']\n",
    "    if fails.empty(): \n",
    "        continue\n",
    "    #slice_id = pcc_eng_22_028.0155_x0435845\n",
    "    datagrp = fails.pile_set_code + fails.slice_id.str.split('_').str.get(2)\n",
    "        # this_slice_fails = excl_df.loc[:,:]\n"
   ]
  }
 ],
 "metadata": {
  "interpreter": {
   "hash": "6b6c298d16f8950f09bc8c39b6c218d09af4e6be4b6effacfcdd31ba36dfd27b"
  },
  "kernelspec": {
   "display_name": "Python 3.8.13 ('puddin')",
   "language": "python",
   "name": "python3"
  },
  "language_info": {
   "codemirror_mode": {
    "name": "ipython",
    "version": 3
   },
   "file_extension": ".py",
   "mimetype": "text/x-python",
   "name": "python",
   "nbconvert_exporter": "python",
   "pygments_lexer": "ipython3",
   "version": "3.8.13"
  },
  "orig_nbformat": 4
 },
 "nbformat": 4,
 "nbformat_minor": 2
}
