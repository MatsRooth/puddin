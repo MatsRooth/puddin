{
 "cells": [
  {
   "cell_type": "markdown",
   "metadata": {},
   "source": [
    "# Implementation Example of [`stanza_batch`](https://github.com/apmoore1/stanza-batch) module\n",
    "\n",
    "\n",
    "install via:\n",
    "```{commandline}\n",
    "pip install stanza-batch\n",
    "```"
   ]
  },
  {
   "cell_type": "code",
   "execution_count": 1,
   "metadata": {},
   "outputs": [
    {
     "name": "stderr",
     "output_type": "stream",
     "text": [
      "/home/arh234/anaconda3/envs/puddin/lib/python3.8/site-packages/tqdm/auto.py:22: TqdmWarning: IProgress not found. Please update jupyter and ipywidgets. See https://ipywidgets.readthedocs.io/en/stable/user_install.html\n",
      "  from .autonotebook import tqdm as notebook_tqdm\n"
     ]
    }
   ],
   "source": [
    "import stanza\n",
    "\n",
    "from typing import List\n",
    "from stanza.models.common.doc import Document\n",
    "from stanza_batch import batch"
   ]
  },
  {
   "cell_type": "code",
   "execution_count": 2,
   "metadata": {},
   "outputs": [
    {
     "name": "stderr",
     "output_type": "stream",
     "text": [
      "2022-07-14 13:49:54 INFO: Loading these models for language: en (English):\n",
      "========================\n",
      "| Processor | Package  |\n",
      "------------------------\n",
      "| tokenize  | combined |\n",
      "========================\n",
      "\n",
      "2022-07-14 13:49:54 INFO: Use device: cpu\n",
      "2022-07-14 13:49:54 INFO: Loading: tokenize\n",
      "2022-07-14 13:49:54 INFO: Done loading processors!\n"
     ]
    },
    {
     "name": "stdout",
     "output_type": "stream",
     "text": [
      "stanza_batch is type Document? True\n",
      "text in stanza_batch is same as in stanza_document? True\n",
      "3 sentences after processing? True\n"
     ]
    }
   ],
   "source": [
    "# Documents to process\n",
    "document_1 = 'Hello how are you\\n\\nI am good thank you'\n",
    "document_2 = 'This is a different document'\n",
    "# Create the document batch\n",
    "batch_document = '\\n\\n'.join([document_1, document_2])\n",
    "# Download Stanza English model\n",
    "#NOTE: model only needs to be downloaed once\n",
    "#// stanza.download(\"en\")\n",
    "# stanza model\n",
    "nlp = stanza.Pipeline(lang=\"en\", processors=\"tokenize\",)\n",
    "stanza_batch = nlp(batch_document)\n",
    "print('stanza_batch is type Document?', isinstance(stanza_batch, Document))\n",
    "stanza_document = 'Hello how are you\\n\\nI am good thank you\\n\\nThis is a different document'\n",
    "print('text in stanza_batch is same as in stanza_document?',stanza_batch.text == stanza_document)\n",
    "print('3 sentences after processing?',len(stanza_batch.sentences) == 3)"
   ]
  },
  {
   "cell_type": "code",
   "execution_count": 3,
   "metadata": {},
   "outputs": [
    {
     "name": "stdout",
     "output_type": "stream",
     "text": [
      "2 documents after processing?   True\n",
      "Each document contains the same raw text after processing?:\n",
      "True\n",
      "True\n",
      "Each document contains the expected number of sentences?:\n",
      "True\n",
      "True\n"
     ]
    }
   ],
   "source": [
    "\n",
    "# Using Stanza Batch\n",
    "stanza_documents: List[Document] = []\n",
    "# Default batch size is 32\n",
    "for document in batch([document_1, document_2], nlp, batch_size=32):\n",
    "    stanza_documents.append(document)\n",
    "print('2 documents after processing?  ',len(stanza_documents) == 2)  # 2 Documents after processing\n",
    "print('Each document contains the same raw text after processing?:')\n",
    "print(stanza_documents[0].text == document_1)\n",
    "print(stanza_documents[1].text == document_2)\n",
    "print('Each document contains the expected number of sentences?:')\n",
    "print(len(stanza_documents[0].sentences) == 2)\n",
    "print(len(stanza_documents[1].sentences) == 1)"
   ]
  }
 ],
 "metadata": {
  "kernelspec": {
   "display_name": "Python 3.8.13 ('puddin')",
   "language": "python",
   "name": "python3"
  },
  "language_info": {
   "codemirror_mode": {
    "name": "ipython",
    "version": 3
   },
   "file_extension": ".py",
   "mimetype": "text/x-python",
   "name": "python",
   "nbconvert_exporter": "python",
   "pygments_lexer": "ipython3",
   "version": "3.8.13"
  },
  "orig_nbformat": 4,
  "vscode": {
   "interpreter": {
    "hash": "6b6c298d16f8950f09bc8c39b6c218d09af4e6be4b6effacfcdd31ba36dfd27b"
   }
  }
 },
 "nbformat": 4,
 "nbformat_minor": 2
}
